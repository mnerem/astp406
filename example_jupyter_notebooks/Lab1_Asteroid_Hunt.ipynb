{
 "cells": [
  {
   "cell_type": "markdown",
   "id": "e1b7c9a5-d7da-4617-a302-4741b3bb21ca",
   "metadata": {},
   "source": [
    "# Lab 1\n",
    "## [Asteroid Hunt](asteroids-atari.gif)\n",
    "For this lab you will write a program to locate asteroids moving across the sky and calculate the asteroids velocity (in units of pixels/frame).\n",
    "Here is an outline of what the process should look like.\n",
    "\n",
    "1. Import all images from a given directory.\n",
    "2. Convert those images to binary.\n",
    "3. Identify all objects in the binary image.\n",
    "4. Determine which of the identified objects are the asteroid(s) of interest.\n",
    "5. Calculate the velocity of the asteroid(s)\n",
    "6. Recreate images with a box around the asteroid and an arrow representing the asteroids trajectory."
   ]
  },
  {
   "cell_type": "markdown",
   "id": "6cc1a21c-7519-45b2-9bc4-4d31ba405116",
   "metadata": {},
   "source": [
    "[Zip Asteroid Files](https://olddominion-my.sharepoint.com/:u:/g/personal/mnerem_odu_edu/EeVr7bZSAStHqluLBw5SAAgBbl3w3OSR2T77aOKSE4yhsg?e=hT3VjY)"
   ]
  },
  {
   "cell_type": "markdown",
   "id": "b790be34-b2fb-4af5-a433-53393b9ad3be",
   "metadata": {},
   "source": [
    "When completed you should be able to generate an image sequence like this example below.\n",
    "\n",
    "![ahunt-bbox](AH_example/bbox/ahunt-bbox.gif)"
   ]
  },
  {
   "cell_type": "markdown",
   "id": "14f85104-02bc-4d0d-b88c-06d2f66a0a08",
   "metadata": {},
   "source": [
    "## Example Importing Image\n",
    "Here is sample code that imports the image **ahunt-1.jpg** in the directory **./AH_example/**\n",
    "\n",
    "```\n",
    "   - Current Working Directory\n",
    "   | asteroid_hunt.ipynb\n",
    "   | - AH_example/\n",
    "   |    ahunt-1.jpg\n",
    "   |    ahunt-2.jpg\n",
    "   |    ahunt-3.jpg\n",
    "   |    ahunt-4.jpg\n",
    "```"
   ]
  },
  {
   "cell_type": "code",
   "execution_count": null,
   "id": "0773f09d-5d84-488b-be68-42f04d21db09",
   "metadata": {
    "tags": []
   },
   "outputs": [],
   "source": [
    "# uncomment the next line if you need install the ComputerVision library (cv2)\n",
    "# pip install opencv-python \n",
    "import cv2\n",
    "import numpy as np\n",
    "from plotly.subplots import make_subplots\n",
    "import plotly.graph_objects as go\n",
    "\n",
    "# Read image from AH_example\n",
    "img = cv2.imread('AH_example/ahunt-1.jpg')\n",
    "img_shape=np.shape(img)\n",
    "\n",
    "# Convert img to binary\n",
    "threshold=220 #play with the threshold value\n",
    "max_value=255\n",
    "ret, bw_img = cv2.threshold(img,threshold,max_value,cv2.THRESH_BINARY)\n",
    "\n",
    "# Display original image and the binary version\n",
    "fig=make_subplots(rows=1,cols=2)\n",
    "#fig.add_trace(go.Image(z=img),1,1)\n",
    "#fig.add_trace(go.Image(z=bw_img),1,2)"
   ]
  }
 ],
 "metadata": {
  "kernelspec": {
   "display_name": "Python 3 (ipykernel)",
   "language": "python",
   "name": "python3"
  },
  "language_info": {
   "codemirror_mode": {
    "name": "ipython",
    "version": 3
   },
   "file_extension": ".py",
   "mimetype": "text/x-python",
   "name": "python",
   "nbconvert_exporter": "python",
   "pygments_lexer": "ipython3",
   "version": "3.8.10"
  }
 },
 "nbformat": 4,
 "nbformat_minor": 5
}
