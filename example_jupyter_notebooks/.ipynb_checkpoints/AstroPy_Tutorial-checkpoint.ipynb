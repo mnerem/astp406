{
 "cells": [
  {
   "cell_type": "markdown",
   "id": "1b209330-da5c-47ea-b19b-ef2b56427350",
   "metadata": {},
   "source": [
    "# AstroPy Tutorial for Jan 31st\n",
    "We will follow the tutorial found here [http://www.astropy.org/ccd-reduction-and-photometry-guide/v/dev/notebooks/01-03-Construction-of-an-artificial-but-realistic-image.html](http://www.astropy.org/ccd-reduction-and-photometry-guide/v/dev/notebooks/01-03-Construction-of-an-artificial-but-realistic-image.html)"
   ]
  },
  {
   "cell_type": "code",
   "execution_count": 3,
   "id": "e33c9162-e141-4cfa-bf1d-cd0a78e5e757",
   "metadata": {},
   "outputs": [],
   "source": [
    "import os\n",
    "\n",
    "# jupyterlab widget for matplotlib\n",
    "%matplotlib inline\n",
    "from matplotlib import pyplot as plt\n",
    "import numpy as np"
   ]
  },
  {
   "cell_type": "code",
   "execution_count": 5,
   "id": "cea915e5-c69b-4d4a-8129-406826d46fce",
   "metadata": {},
   "outputs": [],
   "source": [
    "from photutils.aperture import EllipticalAperture"
   ]
  },
  {
   "cell_type": "code",
   "execution_count": 6,
   "id": "e95afd7e-1ce5-4d19-b7ba-39e22ea31fbe",
   "metadata": {},
   "outputs": [
    {
     "data": {
      "text/plain": [
       "[<matplotlib.lines.Line2D at 0x7fa9573ffee0>]"
      ]
     },
     "execution_count": 6,
     "metadata": {},
     "output_type": "execute_result"
    },
    {
     "data": {
      "image/png": "[encoded data removed]",
      "text/plain": [
       "<Figure size 432x288 with 1 Axes>"
      ]
     },
     "metadata": {
      "needs_background": "light"
     },
     "output_type": "display_data"
    }
   ],
   "source": [
    "x=np.linspace(-2,2,10)\n",
    "y=x**3\n",
    "plt.plot(x,y)"
   ]
  },
  {
   "cell_type": "markdown",
   "id": "05393242-e35d-4b58-845c-17da74aca75d",
   "metadata": {},
   "source": [
    "## Generate a \"random\" stellar image for us to process"
   ]
  },
  {
   "cell_type": "code",
   "execution_count": 7,
   "id": "2bace0cc-18c9-46cc-b6e6-a4d05e9541f2",
   "metadata": {},
   "outputs": [],
   "source": [
    "seed=os.getenv('GUIDE RANDOM SEED', None)\n",
    "if seed is not None:\n",
    "    seed = int(seed)\n",
    "\n",
    "noise_rng = np.random.default_rng(seed)"
   ]
  },
  {
   "cell_type": "code",
   "execution_count": 8,
   "id": "aeb330be-7298-48a9-84c6-a168ee06562a",
   "metadata": {},
   "outputs": [
    {
     "data": {
      "text/plain": [
       "Generator(PCG64) at 0x7FA95738C040"
      ]
     },
     "execution_count": 8,
     "metadata": {},
     "output_type": "execute_result"
    }
   ],
   "source": [
    "noise_rng"
   ]
  },
  {
   "cell_type": "markdown",
   "id": "c46365b8-0f02-48b4-b474-0ff4bdf9871c",
   "metadata": {},
   "source": [
    "### Numpy example of seeding a random variable"
   ]
  },
  {
   "cell_type": "code",
   "execution_count": 9,
   "id": "fa9b61b9-7e80-4407-9c83-e072ae19f145",
   "metadata": {},
   "outputs": [],
   "source": [
    "np.random.seed(10)"
   ]
  },
  {
   "cell_type": "code",
   "execution_count": 10,
   "id": "b9c966fc-3cb9-4214-a5ff-ae21842b54a2",
   "metadata": {},
   "outputs": [
    {
     "data": {
      "text/plain": [
       "266"
      ]
     },
     "execution_count": 10,
     "metadata": {},
     "output_type": "execute_result"
    }
   ],
   "source": [
    "np.random.randint(1,1000)"
   ]
  },
  {
   "cell_type": "code",
   "execution_count": 12,
   "id": "9fbbcaf6-ab3d-4368-ae8c-ebe7021be289",
   "metadata": {},
   "outputs": [],
   "source": [
    "from convenience_functions import show_image"
   ]
  },
  {
   "cell_type": "markdown",
   "id": "b29907ca-eb8a-4448-be39-e4b35dc67315",
   "metadata": {},
   "source": [
    "### Create a blank image"
   ]
  },
  {
   "cell_type": "code",
   "execution_count": 13,
   "id": "d90f29df-8017-44eb-98b6-af44c77ff24b",
   "metadata": {},
   "outputs": [],
   "source": [
    "synthetic_image = np.zeros([1000,1000])"
   ]
  },
  {
   "cell_type": "code",
   "execution_count": 14,
   "id": "50489094-0466-4172-b619-cea180c87a58",
   "metadata": {},
   "outputs": [
    {
     "data": {
      "image/png": "[encoded data removed]",
      "text/plain": [
       "<Figure size 720x720 with 2 Axes>"
      ]
     },
     "metadata": {
      "needs_background": "light"
     },
     "output_type": "display_data"
    }
   ],
   "source": [
    "show_image(synthetic_image, cmap='gray')"
   ]
  },
  {
   "cell_type": "markdown",
   "id": "ca476c5b-d675-47df-84d3-77892b1cf0e1",
   "metadata": {},
   "source": [
    "### Add read noise\n",
    "Not just adding random noise to our image. The noise will be dictated by a Gaussian curve."
   ]
  },
  {
   "cell_type": "code",
   "execution_count": 15,
   "id": "61068b27-1375-4db3-919e-3b925bc836b7",
   "metadata": {},
   "outputs": [],
   "source": [
    "def read_noise(image, amount, gain=1):\n",
    "    shape = image.shape\n",
    "    noise = noise_rng.normal(scale=amount/gain, size=shape)\n",
    "    \n",
    "    return noise"
   ]
  },
  {
   "cell_type": "code",
   "execution_count": 16,
   "id": "fe501ae4-d417-46fa-a395-e8261488fcd6",
   "metadata": {},
   "outputs": [],
   "source": [
    "# Reset our synthetic image\n",
    "synthetic_image = np.zeros([1000,1000])"
   ]
  },
  {
   "cell_type": "code",
   "execution_count": 18,
   "id": "577fc211-319b-46f0-9bbe-b7bb1a0be54b",
   "metadata": {},
   "outputs": [],
   "source": [
    "#plt.figure()\n",
    "#noise_im = synthetic_image + read_noise(synthetic_image,20)\n",
    "# show_image came from convenience_functions.py script\n",
    "#show_image(noise_im, cmap='gray')"
   ]
  },
  {
   "cell_type": "markdown",
   "id": "00d0a6d9-4915-4b63-a6ae-1fdb1c733dea",
   "metadata": {},
   "source": [
    "### Bias"
   ]
  },
  {
   "cell_type": "code",
   "execution_count": 19,
   "id": "651a926b-1472-4e2b-b5de-b71a0cb0cfca",
   "metadata": {},
   "outputs": [
    {
     "data": {
      "text/plain": [
       "array([[5., 5., 5., ..., 5., 5., 5.],\n",
       "       [5., 5., 5., ..., 5., 5., 5.],\n",
       "       [5., 5., 5., ..., 5., 5., 5.],\n",
       "       ...,\n",
       "       [5., 5., 5., ..., 5., 5., 5.],\n",
       "       [5., 5., 5., ..., 5., 5., 5.],\n",
       "       [5., 5., 5., ..., 5., 5., 5.]])"
      ]
     },
     "execution_count": 19,
     "metadata": {},
     "output_type": "execute_result"
    }
   ],
   "source": [
    "np.zeros_like(synthetic_image)+5"
   ]
  },
  {
   "cell_type": "code",
   "execution_count": 20,
   "id": "15376f82-efe9-49d4-a39b-9ee92339a5a0",
   "metadata": {},
   "outputs": [],
   "source": [
    "def bias(image, value, realistic=False):\n",
    "    bias_im = np.zeros_like(image) + value\n",
    "    \n",
    "    if realistic:\n",
    "        # if we want to simulate a more realistic camera defect will use these commands instead\n",
    "        shape = image.shape\n",
    "        number_of_columns = 5 # our arbritrary choise of defect columns \n",
    "        \n",
    "        rng = np.random.RandomState(seed=8392)\n",
    "        columns = rng.randint(0,shape[1],size=number_of_columns)\n",
    "        col_pattern = rng.randint(0, int(0.1*value), size=shape[0])\n",
    "        \n",
    "        for c in columns:\n",
    "            bias_im[:,c]=value+col_pattern\n",
    "    return bias_im"
   ]
  },
  {
   "cell_type": "code",
   "execution_count": 21,
   "id": "ce4bddcb-73f0-406b-a8cf-9ae5879c5e6d",
   "metadata": {},
   "outputs": [
    {
     "data": {
      "image/png": "[encoded data removed]",
      "text/plain": [
       "<Figure size 720x720 with 2 Axes>"
      ]
     },
     "metadata": {
      "needs_background": "light"
     },
     "output_type": "display_data"
    }
   ],
   "source": [
    "bias_only = bias(synthetic_image, 1100, realistic=True)\n",
    "show_image(bias_only, cmap='gray')"
   ]
  }
 ],
 "metadata": {
  "kernelspec": {
   "display_name": "Python 3 (ipykernel)",
   "language": "python",
   "name": "python3"
  },
  "language_info": {
   "codemirror_mode": {
    "name": "ipython",
    "version": 3
   },
   "file_extension": ".py",
   "mimetype": "text/x-python",
   "name": "python",
   "nbconvert_exporter": "python",
   "pygments_lexer": "ipython3",
   "version": "3.8.10"
  }
 },
 "nbformat": 4,
 "nbformat_minor": 5
}
