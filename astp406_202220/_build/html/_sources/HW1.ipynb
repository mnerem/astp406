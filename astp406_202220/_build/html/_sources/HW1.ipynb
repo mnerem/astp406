{
 "cells": [
  {
   "cell_type": "markdown",
   "id": "501d3487-a4e5-4eae-a46e-65e08a280e3a",
   "metadata": {},
   "source": [
    "# Homework Assignment 1\n",
    "\n",
    "**This assignment is still being written**"
   ]
  },
  {
   "cell_type": "markdown",
   "id": "29dd03a8-465f-4ec8-b0b4-9f2af0ec9660",
   "metadata": {},
   "source": [
    "## Problems\n",
    "1) A circumpolar star is observed to have an altitude of 49°38′ at upper transit and an altitude of 18°21′ at lower transit. Assume that these are true altitudes after correction for refraction and instrumental errors. What is the latitude of the observer?\n",
    "\n",
    "2)   What is the declination of the star observed in the previous question?"
   ]
  }
 ],
 "metadata": {
  "kernelspec": {
   "display_name": "Python 3",
   "language": "python",
   "name": "python3"
  },
  "language_info": {
   "codemirror_mode": {
    "name": "ipython",
    "version": 3
   },
   "file_extension": ".py",
   "mimetype": "text/x-python",
   "name": "python",
   "nbconvert_exporter": "python",
   "pygments_lexer": "ipython3",
   "version": "3.8.8"
  }
 },
 "nbformat": 4,
 "nbformat_minor": 5
}
